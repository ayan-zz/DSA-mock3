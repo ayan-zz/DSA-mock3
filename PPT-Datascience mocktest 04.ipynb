{
 "cells": [
  {
   "cell_type": "markdown",
   "id": "da7ce11a",
   "metadata": {},
   "source": [
    "PPT---DATASCIENCE\n",
    "\n",
    "MOCK --04\n",
    "\n",
    "AYAN CHOWDHURY\n",
    "FSDS 2.0"
   ]
  },
  {
   "cell_type": "code",
   "execution_count": 14,
   "id": "e1c8440f",
   "metadata": {},
   "outputs": [
    {
     "data": {
      "text/plain": [
       "[2, 4, 6, 8, 10]"
      ]
     },
     "execution_count": 14,
     "metadata": {},
     "output_type": "execute_result"
    }
   ],
   "source": [
    "#17. Write a function that takes a list of numbers as input and returns a new list containing only the even numbers \n",
    "#from the input list. Use list comprehension to solve this problem.\n",
    "\n",
    "\n",
    "def listcomprehension(lst):\n",
    "    lst2=[i for i in lst if i % 2==0 ]\n",
    "    return lst2\n",
    "\n",
    "listcomprehension([1, 2, 3, 4, 5, 6, 7, 8, 9, 10])"
   ]
  },
  {
   "cell_type": "code",
   "execution_count": 21,
   "id": "e3b12313",
   "metadata": {},
   "outputs": [
    {
     "name": "stdout",
     "output_type": "stream",
     "text": [
      "The function 'my_function' took 2.0069329738616943 seconds\n"
     ]
    }
   ],
   "source": [
    "#18. Implement a decorator function called ‘timer’ that measures the execution time of a function.\n",
    "#The ‘timer’ decorator should print the time taken by the decorated function to execute. \n",
    "#Use the ‘time’ module in Python to calculate the execution time.\n",
    "\n",
    "import time\n",
    "\n",
    "def timer(func):\n",
    "    def wrapper(*args, **kwargs):\n",
    "        start = time.time()\n",
    "        result = func(*args, **kwargs)\n",
    "        end = time.time()\n",
    "        execution = end - start\n",
    "        print(f\"The function '{func.__name__}' took {execution} seconds\")\n",
    "        return result\n",
    "    return wrapper\n",
    "\n",
    "\n",
    "\n",
    "@timer\n",
    "def my_function():\n",
    "    # Code for your function goes here\n",
    "    time.sleep(2)  \n",
    "\n",
    "my_function()"
   ]
  },
  {
   "cell_type": "code",
   "execution_count": 24,
   "id": "083a6a3b",
   "metadata": {},
   "outputs": [
    {
     "name": "stdout",
     "output_type": "stream",
     "text": [
      "Mean: 20.0\n"
     ]
    }
   ],
   "source": [
    "#19. Write a function called ‘calculate_mean’ that takes a list of numbers as input and returns the mean (average) of the numbers.\n",
    "#The function should calculate the mean using the sum of the numbers divided by the total count.\n",
    "\n",
    "def calculate_mean(lst):\n",
    "    total_sum=sum(lst)\n",
    "    length=len(lst)\n",
    "    mean=total_sum/length\n",
    "    print(\"Mean:\", mean)\n",
    "\n",
    "    return \n",
    "\n",
    "calculate_mean([10, 15, 20, 25, 30])"
   ]
  },
  {
   "cell_type": "code",
   "execution_count": 26,
   "id": "8441112d",
   "metadata": {},
   "outputs": [
    {
     "name": "stdout",
     "output_type": "stream",
     "text": [
      "P-value: 0.09434977284243756\n"
     ]
    }
   ],
   "source": [
    "#20. Write a function called ‘perform_hypothesis_test’ that takes two lists of numbers as input, representing two samples. \n",
    "#The function should perform a two-sample t-test and return the p-value. Use the ‘scipy.stats’ module in Python to \n",
    "#calculate the t-test and p-value.\n",
    "\n",
    "from scipy import stats\n",
    "\n",
    "def perform_hypothesis_test(lst1,lst2):\n",
    "    t_statistic, p_value = stats.ttest_ind(lst1,lst2)\n",
    "    return p_value\n",
    "\n",
    "lst1 = [5, 10, 15, 20, 25]\n",
    "lst2 = [10, 20, 30, 40, 50]\n",
    "p_value = perform_hypothesis_test(lst1,lst2)\n",
    "print(\"P-value:\", p_value)"
   ]
  },
  {
   "cell_type": "code",
   "execution_count": null,
   "id": "61e07242",
   "metadata": {},
   "outputs": [],
   "source": []
  }
 ],
 "metadata": {
  "kernelspec": {
   "display_name": "Python 3 (ipykernel)",
   "language": "python",
   "name": "python3"
  },
  "language_info": {
   "codemirror_mode": {
    "name": "ipython",
    "version": 3
   },
   "file_extension": ".py",
   "mimetype": "text/x-python",
   "name": "python",
   "nbconvert_exporter": "python",
   "pygments_lexer": "ipython3",
   "version": "3.9.13"
  }
 },
 "nbformat": 4,
 "nbformat_minor": 5
}
