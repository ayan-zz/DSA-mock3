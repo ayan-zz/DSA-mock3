{
 "cells": [
  {
   "cell_type": "markdown",
   "id": "de7e4082",
   "metadata": {},
   "source": [
    "##### DSA MOCK TEST 03\n",
    "\n",
    "##### Ayan Chowdhury \n",
    "Python \n",
    "FSDS 2.0"
   ]
  },
  {
   "cell_type": "markdown",
   "id": "dea8bd06",
   "metadata": {},
   "source": [
    "#### Question 1\n",
    "\n",
    "Implement a stack using a list in Python. Include the necessary methods such as push, pop, and isEmpty."
   ]
  },
  {
   "cell_type": "code",
   "execution_count": 1,
   "id": "d1bd441c",
   "metadata": {},
   "outputs": [],
   "source": [
    "class Stack:\n",
    "    def __init__(self):\n",
    "        self.stack = []\n",
    "\n",
    "    def push(self, item):\n",
    "        self.stack.append(item)\n",
    "\n",
    "    def pop(self):\n",
    "        if not self.isEmpty():\n",
    "            return self.stack.pop()\n",
    "        else:\n",
    "            print(\"Stack is empty.\")\n",
    "\n",
    "    def isEmpty(self):\n",
    "        return len(self.stack) == 0\n"
   ]
  },
  {
   "cell_type": "code",
   "execution_count": 3,
   "id": "1b17eab2",
   "metadata": {},
   "outputs": [
    {
     "name": "stdout",
     "output_type": "stream",
     "text": [
      "30\n",
      "20\n",
      "False\n",
      "10\n",
      "True\n"
     ]
    }
   ],
   "source": [
    "my_stack = Stack()\n",
    "\n",
    "my_stack.push(10)\n",
    "my_stack.push(20)\n",
    "my_stack.push(30)\n",
    "print(my_stack.pop()) \n",
    "print(my_stack.pop())  \n",
    "print(my_stack.isEmpty())  \n",
    "print(my_stack.pop()) \n",
    "print(my_stack.isEmpty())  "
   ]
  },
  {
   "cell_type": "markdown",
   "id": "7dc0342f",
   "metadata": {},
   "source": [
    "#### Question 2\n",
    "\n",
    "Implement a queue using a list in Python. Include the necessary methods such as enqueue, dequeue, and isEmpty."
   ]
  },
  {
   "cell_type": "code",
   "execution_count": 4,
   "id": "a25969fc",
   "metadata": {},
   "outputs": [],
   "source": [
    "class Queue:\n",
    "    def __init__(self):\n",
    "        self.queue = []\n",
    "\n",
    "    def enqueue(self, item):\n",
    "        self.queue.append(item)\n",
    "\n",
    "    def dequeue(self):\n",
    "        if not self.isEmpty():\n",
    "            return self.queue.pop(0)\n",
    "        else:\n",
    "            print(\"Queue is empty.\")\n",
    "\n",
    "    def isEmpty(self):\n",
    "        return len(self.queue) == 0\n"
   ]
  },
  {
   "cell_type": "code",
   "execution_count": 5,
   "id": "52696b9d",
   "metadata": {},
   "outputs": [
    {
     "name": "stdout",
     "output_type": "stream",
     "text": [
      "10\n",
      "20\n",
      "False\n",
      "30\n",
      "True\n"
     ]
    }
   ],
   "source": [
    "my_queue = Queue()\n",
    "\n",
    "my_queue.enqueue(10)\n",
    "my_queue.enqueue(20)\n",
    "my_queue.enqueue(30)\n",
    "\n",
    "print(my_queue.dequeue())  \n",
    "print(my_queue.dequeue())  \n",
    "print(my_queue.isEmpty()) \n",
    "print(my_queue.dequeue())  \n",
    "print(my_queue.isEmpty()) "
   ]
  },
  {
   "cell_type": "code",
   "execution_count": null,
   "id": "fd53e0d8",
   "metadata": {},
   "outputs": [],
   "source": []
  }
 ],
 "metadata": {
  "kernelspec": {
   "display_name": "Python 3 (ipykernel)",
   "language": "python",
   "name": "python3"
  },
  "language_info": {
   "codemirror_mode": {
    "name": "ipython",
    "version": 3
   },
   "file_extension": ".py",
   "mimetype": "text/x-python",
   "name": "python",
   "nbconvert_exporter": "python",
   "pygments_lexer": "ipython3",
   "version": "3.9.13"
  }
 },
 "nbformat": 4,
 "nbformat_minor": 5
}
